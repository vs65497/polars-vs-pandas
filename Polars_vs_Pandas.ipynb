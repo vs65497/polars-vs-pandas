{
  "nbformat": 4,
  "nbformat_minor": 0,
  "metadata": {
    "colab": {
      "provenance": [],
      "toc_visible": true,
      "mount_file_id": "1N9lcQOMp89g_wX5akYFAEQDLxX4WhFRy",
      "authorship_tag": "ABX9TyODMOypzR8WfVzLl/0K3XTB",
      "include_colab_link": true
    },
    "kernelspec": {
      "name": "python3",
      "display_name": "Python 3"
    },
    "language_info": {
      "name": "python"
    }
  },
  "cells": [
    {
      "cell_type": "markdown",
      "metadata": {
        "id": "view-in-github",
        "colab_type": "text"
      },
      "source": [
        "<a href=\"https://colab.research.google.com/github/zanzivyr/polars-vs-pandas/blob/main/Polars_vs_Pandas.ipynb\" target=\"_parent\"><img src=\"https://colab.research.google.com/assets/colab-badge.svg\" alt=\"Open In Colab\"/></a>"
      ]
    },
    {
      "cell_type": "markdown",
      "source": [
        "# Polars Basics\n",
        "\n",
        "From Towards Data Science\n",
        "\n",
        "https://towardsdatascience.com/getting-started-with-the-polars-dataframe-library-6f9e1c014c5c"
      ],
      "metadata": {
        "id": "XbgrjzrWWjjd"
      }
    },
    {
      "cell_type": "code",
      "execution_count": null,
      "metadata": {
        "colab": {
          "base_uri": "https://localhost:8080/"
        },
        "id": "TFhL-IhuS4MQ",
        "outputId": "3c6feca7-33ce-4826-eca6-3edef7ea137d"
      },
      "outputs": [
        {
          "output_type": "stream",
          "name": "stdout",
          "text": [
            "Looking in indexes: https://pypi.org/simple, https://us-python.pkg.dev/colab-wheels/public/simple/\n",
            "Collecting polars\n",
            "  Downloading polars-0.15.11-cp37-abi3-manylinux_2_17_x86_64.manylinux2014_x86_64.whl (14.6 MB)\n",
            "\u001b[K     |████████████████████████████████| 14.6 MB 5.2 MB/s \n",
            "\u001b[?25hRequirement already satisfied: typing_extensions>=4.0.0 in /usr/local/lib/python3.8/dist-packages (from polars) (4.4.0)\n",
            "Installing collected packages: polars\n",
            "Successfully installed polars-0.15.11\n"
          ]
        }
      ],
      "source": [
        "!pip install polars"
      ]
    },
    {
      "cell_type": "code",
      "source": [
        "import polars as pl\n",
        "\n",
        "df = pl.DataFrame(\n",
        "    {\n",
        "        'Model':['iPhone X','iPhone XS','iPhone 12',\n",
        "                   'iPhone 13','Samsung S11','Samsung S12',\n",
        "                   'Mi A1','Mi A2'],\n",
        "        'Sales':[80,170,130,205,400,30,14,8],\n",
        "        'Company':['Apple','Apple','Apple','Apple',\n",
        "                     'Samsung','Samsung','Xiao Mi','Xiao Mi'],\n",
        "    }\n",
        ")"
      ],
      "metadata": {
        "id": "PzysF2MdTCWv"
      },
      "execution_count": null,
      "outputs": []
    },
    {
      "cell_type": "code",
      "source": [
        "df"
      ],
      "metadata": {
        "colab": {
          "base_uri": "https://localhost:8080/",
          "height": 312
        },
        "id": "NcVR4Lt0TeOW",
        "outputId": "0a17c90d-0548-40fd-a8d0-0401699e7bc2"
      },
      "execution_count": null,
      "outputs": [
        {
          "output_type": "execute_result",
          "data": {
            "text/plain": [
              "shape: (8, 3)\n",
              "┌─────────────┬───────┬─────────┐\n",
              "│ Model       ┆ Sales ┆ Company │\n",
              "│ ---         ┆ ---   ┆ ---     │\n",
              "│ str         ┆ i64   ┆ str     │\n",
              "╞═════════════╪═══════╪═════════╡\n",
              "│ iPhone X    ┆ 80    ┆ Apple   │\n",
              "│ iPhone XS   ┆ 170   ┆ Apple   │\n",
              "│ iPhone 12   ┆ 130   ┆ Apple   │\n",
              "│ iPhone 13   ┆ 205   ┆ Apple   │\n",
              "│ Samsung S11 ┆ 400   ┆ Samsung │\n",
              "│ Samsung S12 ┆ 30    ┆ Samsung │\n",
              "│ Mi A1       ┆ 14    ┆ Xiao Mi │\n",
              "│ Mi A2       ┆ 8     ┆ Xiao Mi │\n",
              "└─────────────┴───────┴─────────┘"
            ],
            "text/html": [
              "<div>\n",
              "<style scoped>\n",
              "    .dataframe tbody tr th:only-of-type {\n",
              "        vertical-align: middle;\n",
              "    }\n",
              "\n",
              "    .dataframe tbody tr th {\n",
              "        vertical-align: top;\n",
              "    }\n",
              "\n",
              "    .dataframe thead th {\n",
              "        text-align: right;\n",
              "    }\n",
              "\n",
              "    .dataframe td {\n",
              "        white-space: pre;\n",
              "    }\n",
              "\n",
              "    .dataframe td {\n",
              "        padding-top: 0;\n",
              "    }\n",
              "\n",
              "    .dataframe td {\n",
              "        padding-bottom: 0;\n",
              "    }\n",
              "\n",
              "    .dataframe td {\n",
              "        line-height: 95%;\n",
              "    }\n",
              "</style>\n",
              "<table border=\"1\" class=\"dataframe\">\n",
              "<small>shape: (8, 3)</small>\n",
              "<thead>\n",
              "<tr>\n",
              "<th>\n",
              "Model\n",
              "</th>\n",
              "<th>\n",
              "Sales\n",
              "</th>\n",
              "<th>\n",
              "Company\n",
              "</th>\n",
              "</tr>\n",
              "<tr>\n",
              "<td>\n",
              "str\n",
              "</td>\n",
              "<td>\n",
              "i64\n",
              "</td>\n",
              "<td>\n",
              "str\n",
              "</td>\n",
              "</tr>\n",
              "</thead>\n",
              "<tbody>\n",
              "<tr>\n",
              "<td>\n",
              "&quot;iPhone X&quot;\n",
              "</td>\n",
              "<td>\n",
              "80\n",
              "</td>\n",
              "<td>\n",
              "&quot;Apple&quot;\n",
              "</td>\n",
              "</tr>\n",
              "<tr>\n",
              "<td>\n",
              "&quot;iPhone XS&quot;\n",
              "</td>\n",
              "<td>\n",
              "170\n",
              "</td>\n",
              "<td>\n",
              "&quot;Apple&quot;\n",
              "</td>\n",
              "</tr>\n",
              "<tr>\n",
              "<td>\n",
              "&quot;iPhone 12&quot;\n",
              "</td>\n",
              "<td>\n",
              "130\n",
              "</td>\n",
              "<td>\n",
              "&quot;Apple&quot;\n",
              "</td>\n",
              "</tr>\n",
              "<tr>\n",
              "<td>\n",
              "&quot;iPhone 13&quot;\n",
              "</td>\n",
              "<td>\n",
              "205\n",
              "</td>\n",
              "<td>\n",
              "&quot;Apple&quot;\n",
              "</td>\n",
              "</tr>\n",
              "<tr>\n",
              "<td>\n",
              "&quot;Samsung S11&quot;\n",
              "</td>\n",
              "<td>\n",
              "400\n",
              "</td>\n",
              "<td>\n",
              "&quot;Samsung&quot;\n",
              "</td>\n",
              "</tr>\n",
              "<tr>\n",
              "<td>\n",
              "&quot;Samsung S12&quot;\n",
              "</td>\n",
              "<td>\n",
              "30\n",
              "</td>\n",
              "<td>\n",
              "&quot;Samsung&quot;\n",
              "</td>\n",
              "</tr>\n",
              "<tr>\n",
              "<td>\n",
              "&quot;Mi A1&quot;\n",
              "</td>\n",
              "<td>\n",
              "14\n",
              "</td>\n",
              "<td>\n",
              "&quot;Xiao Mi&quot;\n",
              "</td>\n",
              "</tr>\n",
              "<tr>\n",
              "<td>\n",
              "&quot;Mi A2&quot;\n",
              "</td>\n",
              "<td>\n",
              "8\n",
              "</td>\n",
              "<td>\n",
              "&quot;Xiao Mi&quot;\n",
              "</td>\n",
              "</tr>\n",
              "</tbody>\n",
              "</table>\n",
              "</div>"
            ]
          },
          "metadata": {},
          "execution_count": 3
        }
      ]
    },
    {
      "cell_type": "code",
      "source": [
        "df.dtypes"
      ],
      "metadata": {
        "colab": {
          "base_uri": "https://localhost:8080/"
        },
        "id": "Iq5RobbMTsJH",
        "outputId": "2325ecaa-e731-42a0-d531-35a659a20e75"
      },
      "execution_count": null,
      "outputs": [
        {
          "output_type": "execute_result",
          "data": {
            "text/plain": [
              "[Utf8, Int64, Utf8]"
            ]
          },
          "metadata": {},
          "execution_count": 6
        }
      ]
    },
    {
      "cell_type": "code",
      "source": [
        "df.columns"
      ],
      "metadata": {
        "colab": {
          "base_uri": "https://localhost:8080/"
        },
        "id": "a76vAuAHTxIm",
        "outputId": "4618942b-c6a3-4ac5-867d-36e34eccab15"
      },
      "execution_count": null,
      "outputs": [
        {
          "output_type": "execute_result",
          "data": {
            "text/plain": [
              "['Model', 'Sales', 'Company']"
            ]
          },
          "metadata": {},
          "execution_count": 8
        }
      ]
    },
    {
      "cell_type": "code",
      "source": [
        "df.rows"
      ],
      "metadata": {
        "colab": {
          "base_uri": "https://localhost:8080/"
        },
        "id": "tTVwu29JT1G_",
        "outputId": "b682d4a8-8667-4c03-deba-54e4998567bb"
      },
      "execution_count": null,
      "outputs": [
        {
          "output_type": "execute_result",
          "data": {
            "text/plain": [
              "<bound method DataFrame.rows of shape: (8, 3)\n",
              "┌─────────────┬───────┬─────────┐\n",
              "│ Model       ┆ Sales ┆ Company │\n",
              "│ ---         ┆ ---   ┆ ---     │\n",
              "│ str         ┆ i64   ┆ str     │\n",
              "╞═════════════╪═══════╪═════════╡\n",
              "│ iPhone X    ┆ 80    ┆ Apple   │\n",
              "│ iPhone XS   ┆ 170   ┆ Apple   │\n",
              "│ iPhone 12   ┆ 130   ┆ Apple   │\n",
              "│ iPhone 13   ┆ 205   ┆ Apple   │\n",
              "│ Samsung S11 ┆ 400   ┆ Samsung │\n",
              "│ Samsung S12 ┆ 30    ┆ Samsung │\n",
              "│ Mi A1       ┆ 14    ┆ Xiao Mi │\n",
              "│ Mi A2       ┆ 8     ┆ Xiao Mi │\n",
              "└─────────────┴───────┴─────────┘>"
            ]
          },
          "metadata": {},
          "execution_count": 9
        }
      ]
    },
    {
      "cell_type": "code",
      "source": [
        "df.rows()"
      ],
      "metadata": {
        "colab": {
          "base_uri": "https://localhost:8080/"
        },
        "id": "ttMg3WCaT2V-",
        "outputId": "a8136397-5e71-4326-cb95-59bc14bc19fa"
      },
      "execution_count": null,
      "outputs": [
        {
          "output_type": "execute_result",
          "data": {
            "text/plain": [
              "[('iPhone X', 80, 'Apple'),\n",
              " ('iPhone XS', 170, 'Apple'),\n",
              " ('iPhone 12', 130, 'Apple'),\n",
              " ('iPhone 13', 205, 'Apple'),\n",
              " ('Samsung S11', 400, 'Samsung'),\n",
              " ('Samsung S12', 30, 'Samsung'),\n",
              " ('Mi A1', 14, 'Xiao Mi'),\n",
              " ('Mi A2', 8, 'Xiao Mi')]"
            ]
          },
          "metadata": {},
          "execution_count": 10
        }
      ]
    },
    {
      "cell_type": "code",
      "source": [
        "df.select(\n",
        "    'Model'\n",
        ")"
      ],
      "metadata": {
        "colab": {
          "base_uri": "https://localhost:8080/",
          "height": 312
        },
        "id": "WM6TtO_mT4T2",
        "outputId": "f17a3dd9-170f-4774-f0b5-878e3ce9d55c"
      },
      "execution_count": null,
      "outputs": [
        {
          "output_type": "execute_result",
          "data": {
            "text/plain": [
              "shape: (8, 1)\n",
              "┌─────────────┐\n",
              "│ Model       │\n",
              "│ ---         │\n",
              "│ str         │\n",
              "╞═════════════╡\n",
              "│ iPhone X    │\n",
              "│ iPhone XS   │\n",
              "│ iPhone 12   │\n",
              "│ iPhone 13   │\n",
              "│ Samsung S11 │\n",
              "│ Samsung S12 │\n",
              "│ Mi A1       │\n",
              "│ Mi A2       │\n",
              "└─────────────┘"
            ],
            "text/html": [
              "<div>\n",
              "<style scoped>\n",
              "    .dataframe tbody tr th:only-of-type {\n",
              "        vertical-align: middle;\n",
              "    }\n",
              "\n",
              "    .dataframe tbody tr th {\n",
              "        vertical-align: top;\n",
              "    }\n",
              "\n",
              "    .dataframe thead th {\n",
              "        text-align: right;\n",
              "    }\n",
              "\n",
              "    .dataframe td {\n",
              "        white-space: pre;\n",
              "    }\n",
              "\n",
              "    .dataframe td {\n",
              "        padding-top: 0;\n",
              "    }\n",
              "\n",
              "    .dataframe td {\n",
              "        padding-bottom: 0;\n",
              "    }\n",
              "\n",
              "    .dataframe td {\n",
              "        line-height: 95%;\n",
              "    }\n",
              "</style>\n",
              "<table border=\"1\" class=\"dataframe\">\n",
              "<small>shape: (8, 1)</small>\n",
              "<thead>\n",
              "<tr>\n",
              "<th>\n",
              "Model\n",
              "</th>\n",
              "</tr>\n",
              "<tr>\n",
              "<td>\n",
              "str\n",
              "</td>\n",
              "</tr>\n",
              "</thead>\n",
              "<tbody>\n",
              "<tr>\n",
              "<td>\n",
              "&quot;iPhone X&quot;\n",
              "</td>\n",
              "</tr>\n",
              "<tr>\n",
              "<td>\n",
              "&quot;iPhone XS&quot;\n",
              "</td>\n",
              "</tr>\n",
              "<tr>\n",
              "<td>\n",
              "&quot;iPhone 12&quot;\n",
              "</td>\n",
              "</tr>\n",
              "<tr>\n",
              "<td>\n",
              "&quot;iPhone 13&quot;\n",
              "</td>\n",
              "</tr>\n",
              "<tr>\n",
              "<td>\n",
              "&quot;Samsung S11&quot;\n",
              "</td>\n",
              "</tr>\n",
              "<tr>\n",
              "<td>\n",
              "&quot;Samsung S12&quot;\n",
              "</td>\n",
              "</tr>\n",
              "<tr>\n",
              "<td>\n",
              "&quot;Mi A1&quot;\n",
              "</td>\n",
              "</tr>\n",
              "<tr>\n",
              "<td>\n",
              "&quot;Mi A2&quot;\n",
              "</td>\n",
              "</tr>\n",
              "</tbody>\n",
              "</table>\n",
              "</div>"
            ]
          },
          "metadata": {},
          "execution_count": 11
        }
      ]
    },
    {
      "cell_type": "code",
      "source": [
        "df.select(\n",
        "    ['Model','Company']\n",
        ")"
      ],
      "metadata": {
        "colab": {
          "base_uri": "https://localhost:8080/",
          "height": 312
        },
        "id": "FPGleLo0T77_",
        "outputId": "3c3b43cd-c840-4901-a4cc-84b8e83e4f8e"
      },
      "execution_count": null,
      "outputs": [
        {
          "output_type": "execute_result",
          "data": {
            "text/plain": [
              "shape: (8, 2)\n",
              "┌─────────────┬─────────┐\n",
              "│ Model       ┆ Company │\n",
              "│ ---         ┆ ---     │\n",
              "│ str         ┆ str     │\n",
              "╞═════════════╪═════════╡\n",
              "│ iPhone X    ┆ Apple   │\n",
              "│ iPhone XS   ┆ Apple   │\n",
              "│ iPhone 12   ┆ Apple   │\n",
              "│ iPhone 13   ┆ Apple   │\n",
              "│ Samsung S11 ┆ Samsung │\n",
              "│ Samsung S12 ┆ Samsung │\n",
              "│ Mi A1       ┆ Xiao Mi │\n",
              "│ Mi A2       ┆ Xiao Mi │\n",
              "└─────────────┴─────────┘"
            ],
            "text/html": [
              "<div>\n",
              "<style scoped>\n",
              "    .dataframe tbody tr th:only-of-type {\n",
              "        vertical-align: middle;\n",
              "    }\n",
              "\n",
              "    .dataframe tbody tr th {\n",
              "        vertical-align: top;\n",
              "    }\n",
              "\n",
              "    .dataframe thead th {\n",
              "        text-align: right;\n",
              "    }\n",
              "\n",
              "    .dataframe td {\n",
              "        white-space: pre;\n",
              "    }\n",
              "\n",
              "    .dataframe td {\n",
              "        padding-top: 0;\n",
              "    }\n",
              "\n",
              "    .dataframe td {\n",
              "        padding-bottom: 0;\n",
              "    }\n",
              "\n",
              "    .dataframe td {\n",
              "        line-height: 95%;\n",
              "    }\n",
              "</style>\n",
              "<table border=\"1\" class=\"dataframe\">\n",
              "<small>shape: (8, 2)</small>\n",
              "<thead>\n",
              "<tr>\n",
              "<th>\n",
              "Model\n",
              "</th>\n",
              "<th>\n",
              "Company\n",
              "</th>\n",
              "</tr>\n",
              "<tr>\n",
              "<td>\n",
              "str\n",
              "</td>\n",
              "<td>\n",
              "str\n",
              "</td>\n",
              "</tr>\n",
              "</thead>\n",
              "<tbody>\n",
              "<tr>\n",
              "<td>\n",
              "&quot;iPhone X&quot;\n",
              "</td>\n",
              "<td>\n",
              "&quot;Apple&quot;\n",
              "</td>\n",
              "</tr>\n",
              "<tr>\n",
              "<td>\n",
              "&quot;iPhone XS&quot;\n",
              "</td>\n",
              "<td>\n",
              "&quot;Apple&quot;\n",
              "</td>\n",
              "</tr>\n",
              "<tr>\n",
              "<td>\n",
              "&quot;iPhone 12&quot;\n",
              "</td>\n",
              "<td>\n",
              "&quot;Apple&quot;\n",
              "</td>\n",
              "</tr>\n",
              "<tr>\n",
              "<td>\n",
              "&quot;iPhone 13&quot;\n",
              "</td>\n",
              "<td>\n",
              "&quot;Apple&quot;\n",
              "</td>\n",
              "</tr>\n",
              "<tr>\n",
              "<td>\n",
              "&quot;Samsung S11&quot;\n",
              "</td>\n",
              "<td>\n",
              "&quot;Samsung&quot;\n",
              "</td>\n",
              "</tr>\n",
              "<tr>\n",
              "<td>\n",
              "&quot;Samsung S12&quot;\n",
              "</td>\n",
              "<td>\n",
              "&quot;Samsung&quot;\n",
              "</td>\n",
              "</tr>\n",
              "<tr>\n",
              "<td>\n",
              "&quot;Mi A1&quot;\n",
              "</td>\n",
              "<td>\n",
              "&quot;Xiao Mi&quot;\n",
              "</td>\n",
              "</tr>\n",
              "<tr>\n",
              "<td>\n",
              "&quot;Mi A2&quot;\n",
              "</td>\n",
              "<td>\n",
              "&quot;Xiao Mi&quot;\n",
              "</td>\n",
              "</tr>\n",
              "</tbody>\n",
              "</table>\n",
              "</div>"
            ]
          },
          "metadata": {},
          "execution_count": 12
        }
      ]
    },
    {
      "cell_type": "code",
      "source": [
        "df.select(\n",
        "    pl.col(pl.Int64)\n",
        ")"
      ],
      "metadata": {
        "colab": {
          "base_uri": "https://localhost:8080/",
          "height": 312
        },
        "id": "QmU9OCT0UAJG",
        "outputId": "9fedfa66-5e11-4e6d-c239-bace3f6c6749"
      },
      "execution_count": null,
      "outputs": [
        {
          "output_type": "execute_result",
          "data": {
            "text/plain": [
              "shape: (8, 1)\n",
              "┌───────┐\n",
              "│ Sales │\n",
              "│ ---   │\n",
              "│ i64   │\n",
              "╞═══════╡\n",
              "│ 80    │\n",
              "│ 170   │\n",
              "│ 130   │\n",
              "│ 205   │\n",
              "│ 400   │\n",
              "│ 30    │\n",
              "│ 14    │\n",
              "│ 8     │\n",
              "└───────┘"
            ],
            "text/html": [
              "<div>\n",
              "<style scoped>\n",
              "    .dataframe tbody tr th:only-of-type {\n",
              "        vertical-align: middle;\n",
              "    }\n",
              "\n",
              "    .dataframe tbody tr th {\n",
              "        vertical-align: top;\n",
              "    }\n",
              "\n",
              "    .dataframe thead th {\n",
              "        text-align: right;\n",
              "    }\n",
              "\n",
              "    .dataframe td {\n",
              "        white-space: pre;\n",
              "    }\n",
              "\n",
              "    .dataframe td {\n",
              "        padding-top: 0;\n",
              "    }\n",
              "\n",
              "    .dataframe td {\n",
              "        padding-bottom: 0;\n",
              "    }\n",
              "\n",
              "    .dataframe td {\n",
              "        line-height: 95%;\n",
              "    }\n",
              "</style>\n",
              "<table border=\"1\" class=\"dataframe\">\n",
              "<small>shape: (8, 1)</small>\n",
              "<thead>\n",
              "<tr>\n",
              "<th>\n",
              "Sales\n",
              "</th>\n",
              "</tr>\n",
              "<tr>\n",
              "<td>\n",
              "i64\n",
              "</td>\n",
              "</tr>\n",
              "</thead>\n",
              "<tbody>\n",
              "<tr>\n",
              "<td>\n",
              "80\n",
              "</td>\n",
              "</tr>\n",
              "<tr>\n",
              "<td>\n",
              "170\n",
              "</td>\n",
              "</tr>\n",
              "<tr>\n",
              "<td>\n",
              "130\n",
              "</td>\n",
              "</tr>\n",
              "<tr>\n",
              "<td>\n",
              "205\n",
              "</td>\n",
              "</tr>\n",
              "<tr>\n",
              "<td>\n",
              "400\n",
              "</td>\n",
              "</tr>\n",
              "<tr>\n",
              "<td>\n",
              "30\n",
              "</td>\n",
              "</tr>\n",
              "<tr>\n",
              "<td>\n",
              "14\n",
              "</td>\n",
              "</tr>\n",
              "<tr>\n",
              "<td>\n",
              "8\n",
              "</td>\n",
              "</tr>\n",
              "</tbody>\n",
              "</table>\n",
              "</div>"
            ]
          },
          "metadata": {},
          "execution_count": 13
        }
      ]
    },
    {
      "cell_type": "code",
      "source": [
        "df.select(\n",
        "    pl.col(['Model','Sales']).sort_by('Sales')\n",
        ")"
      ],
      "metadata": {
        "colab": {
          "base_uri": "https://localhost:8080/",
          "height": 312
        },
        "id": "HDCW8MMVUGvw",
        "outputId": "a2fdd828-658a-4819-ea16-fef648879471"
      },
      "execution_count": null,
      "outputs": [
        {
          "output_type": "execute_result",
          "data": {
            "text/plain": [
              "shape: (8, 2)\n",
              "┌─────────────┬───────┐\n",
              "│ Model       ┆ Sales │\n",
              "│ ---         ┆ ---   │\n",
              "│ str         ┆ i64   │\n",
              "╞═════════════╪═══════╡\n",
              "│ Mi A2       ┆ 8     │\n",
              "│ Mi A1       ┆ 14    │\n",
              "│ Samsung S12 ┆ 30    │\n",
              "│ iPhone X    ┆ 80    │\n",
              "│ iPhone 12   ┆ 130   │\n",
              "│ iPhone XS   ┆ 170   │\n",
              "│ iPhone 13   ┆ 205   │\n",
              "│ Samsung S11 ┆ 400   │\n",
              "└─────────────┴───────┘"
            ],
            "text/html": [
              "<div>\n",
              "<style scoped>\n",
              "    .dataframe tbody tr th:only-of-type {\n",
              "        vertical-align: middle;\n",
              "    }\n",
              "\n",
              "    .dataframe tbody tr th {\n",
              "        vertical-align: top;\n",
              "    }\n",
              "\n",
              "    .dataframe thead th {\n",
              "        text-align: right;\n",
              "    }\n",
              "\n",
              "    .dataframe td {\n",
              "        white-space: pre;\n",
              "    }\n",
              "\n",
              "    .dataframe td {\n",
              "        padding-top: 0;\n",
              "    }\n",
              "\n",
              "    .dataframe td {\n",
              "        padding-bottom: 0;\n",
              "    }\n",
              "\n",
              "    .dataframe td {\n",
              "        line-height: 95%;\n",
              "    }\n",
              "</style>\n",
              "<table border=\"1\" class=\"dataframe\">\n",
              "<small>shape: (8, 2)</small>\n",
              "<thead>\n",
              "<tr>\n",
              "<th>\n",
              "Model\n",
              "</th>\n",
              "<th>\n",
              "Sales\n",
              "</th>\n",
              "</tr>\n",
              "<tr>\n",
              "<td>\n",
              "str\n",
              "</td>\n",
              "<td>\n",
              "i64\n",
              "</td>\n",
              "</tr>\n",
              "</thead>\n",
              "<tbody>\n",
              "<tr>\n",
              "<td>\n",
              "&quot;Mi A2&quot;\n",
              "</td>\n",
              "<td>\n",
              "8\n",
              "</td>\n",
              "</tr>\n",
              "<tr>\n",
              "<td>\n",
              "&quot;Mi A1&quot;\n",
              "</td>\n",
              "<td>\n",
              "14\n",
              "</td>\n",
              "</tr>\n",
              "<tr>\n",
              "<td>\n",
              "&quot;Samsung S12&quot;\n",
              "</td>\n",
              "<td>\n",
              "30\n",
              "</td>\n",
              "</tr>\n",
              "<tr>\n",
              "<td>\n",
              "&quot;iPhone X&quot;\n",
              "</td>\n",
              "<td>\n",
              "80\n",
              "</td>\n",
              "</tr>\n",
              "<tr>\n",
              "<td>\n",
              "&quot;iPhone 12&quot;\n",
              "</td>\n",
              "<td>\n",
              "130\n",
              "</td>\n",
              "</tr>\n",
              "<tr>\n",
              "<td>\n",
              "&quot;iPhone XS&quot;\n",
              "</td>\n",
              "<td>\n",
              "170\n",
              "</td>\n",
              "</tr>\n",
              "<tr>\n",
              "<td>\n",
              "&quot;iPhone 13&quot;\n",
              "</td>\n",
              "<td>\n",
              "205\n",
              "</td>\n",
              "</tr>\n",
              "<tr>\n",
              "<td>\n",
              "&quot;Samsung S11&quot;\n",
              "</td>\n",
              "<td>\n",
              "400\n",
              "</td>\n",
              "</tr>\n",
              "</tbody>\n",
              "</table>\n",
              "</div>"
            ]
          },
          "metadata": {},
          "execution_count": 14
        }
      ]
    },
    {
      "cell_type": "code",
      "source": [
        "df.select(\n",
        "    [pl.col(pl.Int64),'Company']\n",
        ")"
      ],
      "metadata": {
        "colab": {
          "base_uri": "https://localhost:8080/",
          "height": 312
        },
        "id": "fN6CbnA2UPO2",
        "outputId": "138bcf40-dbd4-4fdc-c041-092068db2229"
      },
      "execution_count": null,
      "outputs": [
        {
          "output_type": "execute_result",
          "data": {
            "text/plain": [
              "shape: (8, 2)\n",
              "┌───────┬─────────┐\n",
              "│ Sales ┆ Company │\n",
              "│ ---   ┆ ---     │\n",
              "│ i64   ┆ str     │\n",
              "╞═══════╪═════════╡\n",
              "│ 80    ┆ Apple   │\n",
              "│ 170   ┆ Apple   │\n",
              "│ 130   ┆ Apple   │\n",
              "│ 205   ┆ Apple   │\n",
              "│ 400   ┆ Samsung │\n",
              "│ 30    ┆ Samsung │\n",
              "│ 14    ┆ Xiao Mi │\n",
              "│ 8     ┆ Xiao Mi │\n",
              "└───────┴─────────┘"
            ],
            "text/html": [
              "<div>\n",
              "<style scoped>\n",
              "    .dataframe tbody tr th:only-of-type {\n",
              "        vertical-align: middle;\n",
              "    }\n",
              "\n",
              "    .dataframe tbody tr th {\n",
              "        vertical-align: top;\n",
              "    }\n",
              "\n",
              "    .dataframe thead th {\n",
              "        text-align: right;\n",
              "    }\n",
              "\n",
              "    .dataframe td {\n",
              "        white-space: pre;\n",
              "    }\n",
              "\n",
              "    .dataframe td {\n",
              "        padding-top: 0;\n",
              "    }\n",
              "\n",
              "    .dataframe td {\n",
              "        padding-bottom: 0;\n",
              "    }\n",
              "\n",
              "    .dataframe td {\n",
              "        line-height: 95%;\n",
              "    }\n",
              "</style>\n",
              "<table border=\"1\" class=\"dataframe\">\n",
              "<small>shape: (8, 2)</small>\n",
              "<thead>\n",
              "<tr>\n",
              "<th>\n",
              "Sales\n",
              "</th>\n",
              "<th>\n",
              "Company\n",
              "</th>\n",
              "</tr>\n",
              "<tr>\n",
              "<td>\n",
              "i64\n",
              "</td>\n",
              "<td>\n",
              "str\n",
              "</td>\n",
              "</tr>\n",
              "</thead>\n",
              "<tbody>\n",
              "<tr>\n",
              "<td>\n",
              "80\n",
              "</td>\n",
              "<td>\n",
              "&quot;Apple&quot;\n",
              "</td>\n",
              "</tr>\n",
              "<tr>\n",
              "<td>\n",
              "170\n",
              "</td>\n",
              "<td>\n",
              "&quot;Apple&quot;\n",
              "</td>\n",
              "</tr>\n",
              "<tr>\n",
              "<td>\n",
              "130\n",
              "</td>\n",
              "<td>\n",
              "&quot;Apple&quot;\n",
              "</td>\n",
              "</tr>\n",
              "<tr>\n",
              "<td>\n",
              "205\n",
              "</td>\n",
              "<td>\n",
              "&quot;Apple&quot;\n",
              "</td>\n",
              "</tr>\n",
              "<tr>\n",
              "<td>\n",
              "400\n",
              "</td>\n",
              "<td>\n",
              "&quot;Samsung&quot;\n",
              "</td>\n",
              "</tr>\n",
              "<tr>\n",
              "<td>\n",
              "30\n",
              "</td>\n",
              "<td>\n",
              "&quot;Samsung&quot;\n",
              "</td>\n",
              "</tr>\n",
              "<tr>\n",
              "<td>\n",
              "14\n",
              "</td>\n",
              "<td>\n",
              "&quot;Xiao Mi&quot;\n",
              "</td>\n",
              "</tr>\n",
              "<tr>\n",
              "<td>\n",
              "8\n",
              "</td>\n",
              "<td>\n",
              "&quot;Xiao Mi&quot;\n",
              "</td>\n",
              "</tr>\n",
              "</tbody>\n",
              "</table>\n",
              "</div>"
            ]
          },
          "metadata": {},
          "execution_count": 15
        }
      ]
    },
    {
      "cell_type": "code",
      "source": [
        "df.select(\n",
        "    [pl.col(pl.Utf8)]\n",
        ")"
      ],
      "metadata": {
        "colab": {
          "base_uri": "https://localhost:8080/",
          "height": 312
        },
        "id": "ibppoAkIUURf",
        "outputId": "1b97ca88-3dff-41ad-826d-b2f601f887d3"
      },
      "execution_count": null,
      "outputs": [
        {
          "output_type": "execute_result",
          "data": {
            "text/plain": [
              "shape: (8, 2)\n",
              "┌─────────────┬─────────┐\n",
              "│ Model       ┆ Company │\n",
              "│ ---         ┆ ---     │\n",
              "│ str         ┆ str     │\n",
              "╞═════════════╪═════════╡\n",
              "│ iPhone X    ┆ Apple   │\n",
              "│ iPhone XS   ┆ Apple   │\n",
              "│ iPhone 12   ┆ Apple   │\n",
              "│ iPhone 13   ┆ Apple   │\n",
              "│ Samsung S11 ┆ Samsung │\n",
              "│ Samsung S12 ┆ Samsung │\n",
              "│ Mi A1       ┆ Xiao Mi │\n",
              "│ Mi A2       ┆ Xiao Mi │\n",
              "└─────────────┴─────────┘"
            ],
            "text/html": [
              "<div>\n",
              "<style scoped>\n",
              "    .dataframe tbody tr th:only-of-type {\n",
              "        vertical-align: middle;\n",
              "    }\n",
              "\n",
              "    .dataframe tbody tr th {\n",
              "        vertical-align: top;\n",
              "    }\n",
              "\n",
              "    .dataframe thead th {\n",
              "        text-align: right;\n",
              "    }\n",
              "\n",
              "    .dataframe td {\n",
              "        white-space: pre;\n",
              "    }\n",
              "\n",
              "    .dataframe td {\n",
              "        padding-top: 0;\n",
              "    }\n",
              "\n",
              "    .dataframe td {\n",
              "        padding-bottom: 0;\n",
              "    }\n",
              "\n",
              "    .dataframe td {\n",
              "        line-height: 95%;\n",
              "    }\n",
              "</style>\n",
              "<table border=\"1\" class=\"dataframe\">\n",
              "<small>shape: (8, 2)</small>\n",
              "<thead>\n",
              "<tr>\n",
              "<th>\n",
              "Model\n",
              "</th>\n",
              "<th>\n",
              "Company\n",
              "</th>\n",
              "</tr>\n",
              "<tr>\n",
              "<td>\n",
              "str\n",
              "</td>\n",
              "<td>\n",
              "str\n",
              "</td>\n",
              "</tr>\n",
              "</thead>\n",
              "<tbody>\n",
              "<tr>\n",
              "<td>\n",
              "&quot;iPhone X&quot;\n",
              "</td>\n",
              "<td>\n",
              "&quot;Apple&quot;\n",
              "</td>\n",
              "</tr>\n",
              "<tr>\n",
              "<td>\n",
              "&quot;iPhone XS&quot;\n",
              "</td>\n",
              "<td>\n",
              "&quot;Apple&quot;\n",
              "</td>\n",
              "</tr>\n",
              "<tr>\n",
              "<td>\n",
              "&quot;iPhone 12&quot;\n",
              "</td>\n",
              "<td>\n",
              "&quot;Apple&quot;\n",
              "</td>\n",
              "</tr>\n",
              "<tr>\n",
              "<td>\n",
              "&quot;iPhone 13&quot;\n",
              "</td>\n",
              "<td>\n",
              "&quot;Apple&quot;\n",
              "</td>\n",
              "</tr>\n",
              "<tr>\n",
              "<td>\n",
              "&quot;Samsung S11&quot;\n",
              "</td>\n",
              "<td>\n",
              "&quot;Samsung&quot;\n",
              "</td>\n",
              "</tr>\n",
              "<tr>\n",
              "<td>\n",
              "&quot;Samsung S12&quot;\n",
              "</td>\n",
              "<td>\n",
              "&quot;Samsung&quot;\n",
              "</td>\n",
              "</tr>\n",
              "<tr>\n",
              "<td>\n",
              "&quot;Mi A1&quot;\n",
              "</td>\n",
              "<td>\n",
              "&quot;Xiao Mi&quot;\n",
              "</td>\n",
              "</tr>\n",
              "<tr>\n",
              "<td>\n",
              "&quot;Mi A2&quot;\n",
              "</td>\n",
              "<td>\n",
              "&quot;Xiao Mi&quot;\n",
              "</td>\n",
              "</tr>\n",
              "</tbody>\n",
              "</table>\n",
              "</div>"
            ]
          },
          "metadata": {},
          "execution_count": 16
        }
      ]
    },
    {
      "cell_type": "code",
      "source": [
        "df.row(0)"
      ],
      "metadata": {
        "colab": {
          "base_uri": "https://localhost:8080/"
        },
        "id": "zv6Ewb7_UaIn",
        "outputId": "c72d5fe6-97d8-4df2-af1c-bec973731d9f"
      },
      "execution_count": null,
      "outputs": [
        {
          "output_type": "execute_result",
          "data": {
            "text/plain": [
              "('iPhone X', 80, 'Apple')"
            ]
          },
          "metadata": {},
          "execution_count": 17
        }
      ]
    },
    {
      "cell_type": "code",
      "source": [
        "df.filter(\n",
        "    pl.col('Company') == 'Apple'\n",
        ")"
      ],
      "metadata": {
        "colab": {
          "base_uri": "https://localhost:8080/",
          "height": 203
        },
        "id": "dAFMNAN2Udfe",
        "outputId": "ad779a23-cc15-4ae0-e64c-cb0c7af24cbf"
      },
      "execution_count": null,
      "outputs": [
        {
          "output_type": "execute_result",
          "data": {
            "text/plain": [
              "shape: (4, 3)\n",
              "┌───────────┬───────┬─────────┐\n",
              "│ Model     ┆ Sales ┆ Company │\n",
              "│ ---       ┆ ---   ┆ ---     │\n",
              "│ str       ┆ i64   ┆ str     │\n",
              "╞═══════════╪═══════╪═════════╡\n",
              "│ iPhone X  ┆ 80    ┆ Apple   │\n",
              "│ iPhone XS ┆ 170   ┆ Apple   │\n",
              "│ iPhone 12 ┆ 130   ┆ Apple   │\n",
              "│ iPhone 13 ┆ 205   ┆ Apple   │\n",
              "└───────────┴───────┴─────────┘"
            ],
            "text/html": [
              "<div>\n",
              "<style scoped>\n",
              "    .dataframe tbody tr th:only-of-type {\n",
              "        vertical-align: middle;\n",
              "    }\n",
              "\n",
              "    .dataframe tbody tr th {\n",
              "        vertical-align: top;\n",
              "    }\n",
              "\n",
              "    .dataframe thead th {\n",
              "        text-align: right;\n",
              "    }\n",
              "\n",
              "    .dataframe td {\n",
              "        white-space: pre;\n",
              "    }\n",
              "\n",
              "    .dataframe td {\n",
              "        padding-top: 0;\n",
              "    }\n",
              "\n",
              "    .dataframe td {\n",
              "        padding-bottom: 0;\n",
              "    }\n",
              "\n",
              "    .dataframe td {\n",
              "        line-height: 95%;\n",
              "    }\n",
              "</style>\n",
              "<table border=\"1\" class=\"dataframe\">\n",
              "<small>shape: (4, 3)</small>\n",
              "<thead>\n",
              "<tr>\n",
              "<th>\n",
              "Model\n",
              "</th>\n",
              "<th>\n",
              "Sales\n",
              "</th>\n",
              "<th>\n",
              "Company\n",
              "</th>\n",
              "</tr>\n",
              "<tr>\n",
              "<td>\n",
              "str\n",
              "</td>\n",
              "<td>\n",
              "i64\n",
              "</td>\n",
              "<td>\n",
              "str\n",
              "</td>\n",
              "</tr>\n",
              "</thead>\n",
              "<tbody>\n",
              "<tr>\n",
              "<td>\n",
              "&quot;iPhone X&quot;\n",
              "</td>\n",
              "<td>\n",
              "80\n",
              "</td>\n",
              "<td>\n",
              "&quot;Apple&quot;\n",
              "</td>\n",
              "</tr>\n",
              "<tr>\n",
              "<td>\n",
              "&quot;iPhone XS&quot;\n",
              "</td>\n",
              "<td>\n",
              "170\n",
              "</td>\n",
              "<td>\n",
              "&quot;Apple&quot;\n",
              "</td>\n",
              "</tr>\n",
              "<tr>\n",
              "<td>\n",
              "&quot;iPhone 12&quot;\n",
              "</td>\n",
              "<td>\n",
              "130\n",
              "</td>\n",
              "<td>\n",
              "&quot;Apple&quot;\n",
              "</td>\n",
              "</tr>\n",
              "<tr>\n",
              "<td>\n",
              "&quot;iPhone 13&quot;\n",
              "</td>\n",
              "<td>\n",
              "205\n",
              "</td>\n",
              "<td>\n",
              "&quot;Apple&quot;\n",
              "</td>\n",
              "</tr>\n",
              "</tbody>\n",
              "</table>\n",
              "</div>"
            ]
          },
          "metadata": {},
          "execution_count": 18
        }
      ]
    },
    {
      "cell_type": "code",
      "source": [
        "df.filter(\n",
        "    (pl.col('Company') == 'Apple') |\n",
        "    (pl.col('Company') == 'Samsung')\n",
        ")"
      ],
      "metadata": {
        "colab": {
          "base_uri": "https://localhost:8080/",
          "height": 258
        },
        "id": "2W1cZUMJUhku",
        "outputId": "77bb6066-cfaf-40dd-e0f5-ac0c008871d5"
      },
      "execution_count": null,
      "outputs": [
        {
          "output_type": "execute_result",
          "data": {
            "text/plain": [
              "shape: (6, 3)\n",
              "┌─────────────┬───────┬─────────┐\n",
              "│ Model       ┆ Sales ┆ Company │\n",
              "│ ---         ┆ ---   ┆ ---     │\n",
              "│ str         ┆ i64   ┆ str     │\n",
              "╞═════════════╪═══════╪═════════╡\n",
              "│ iPhone X    ┆ 80    ┆ Apple   │\n",
              "│ iPhone XS   ┆ 170   ┆ Apple   │\n",
              "│ iPhone 12   ┆ 130   ┆ Apple   │\n",
              "│ iPhone 13   ┆ 205   ┆ Apple   │\n",
              "│ Samsung S11 ┆ 400   ┆ Samsung │\n",
              "│ Samsung S12 ┆ 30    ┆ Samsung │\n",
              "└─────────────┴───────┴─────────┘"
            ],
            "text/html": [
              "<div>\n",
              "<style scoped>\n",
              "    .dataframe tbody tr th:only-of-type {\n",
              "        vertical-align: middle;\n",
              "    }\n",
              "\n",
              "    .dataframe tbody tr th {\n",
              "        vertical-align: top;\n",
              "    }\n",
              "\n",
              "    .dataframe thead th {\n",
              "        text-align: right;\n",
              "    }\n",
              "\n",
              "    .dataframe td {\n",
              "        white-space: pre;\n",
              "    }\n",
              "\n",
              "    .dataframe td {\n",
              "        padding-top: 0;\n",
              "    }\n",
              "\n",
              "    .dataframe td {\n",
              "        padding-bottom: 0;\n",
              "    }\n",
              "\n",
              "    .dataframe td {\n",
              "        line-height: 95%;\n",
              "    }\n",
              "</style>\n",
              "<table border=\"1\" class=\"dataframe\">\n",
              "<small>shape: (6, 3)</small>\n",
              "<thead>\n",
              "<tr>\n",
              "<th>\n",
              "Model\n",
              "</th>\n",
              "<th>\n",
              "Sales\n",
              "</th>\n",
              "<th>\n",
              "Company\n",
              "</th>\n",
              "</tr>\n",
              "<tr>\n",
              "<td>\n",
              "str\n",
              "</td>\n",
              "<td>\n",
              "i64\n",
              "</td>\n",
              "<td>\n",
              "str\n",
              "</td>\n",
              "</tr>\n",
              "</thead>\n",
              "<tbody>\n",
              "<tr>\n",
              "<td>\n",
              "&quot;iPhone X&quot;\n",
              "</td>\n",
              "<td>\n",
              "80\n",
              "</td>\n",
              "<td>\n",
              "&quot;Apple&quot;\n",
              "</td>\n",
              "</tr>\n",
              "<tr>\n",
              "<td>\n",
              "&quot;iPhone XS&quot;\n",
              "</td>\n",
              "<td>\n",
              "170\n",
              "</td>\n",
              "<td>\n",
              "&quot;Apple&quot;\n",
              "</td>\n",
              "</tr>\n",
              "<tr>\n",
              "<td>\n",
              "&quot;iPhone 12&quot;\n",
              "</td>\n",
              "<td>\n",
              "130\n",
              "</td>\n",
              "<td>\n",
              "&quot;Apple&quot;\n",
              "</td>\n",
              "</tr>\n",
              "<tr>\n",
              "<td>\n",
              "&quot;iPhone 13&quot;\n",
              "</td>\n",
              "<td>\n",
              "205\n",
              "</td>\n",
              "<td>\n",
              "&quot;Apple&quot;\n",
              "</td>\n",
              "</tr>\n",
              "<tr>\n",
              "<td>\n",
              "&quot;Samsung S11&quot;\n",
              "</td>\n",
              "<td>\n",
              "400\n",
              "</td>\n",
              "<td>\n",
              "&quot;Samsung&quot;\n",
              "</td>\n",
              "</tr>\n",
              "<tr>\n",
              "<td>\n",
              "&quot;Samsung S12&quot;\n",
              "</td>\n",
              "<td>\n",
              "30\n",
              "</td>\n",
              "<td>\n",
              "&quot;Samsung&quot;\n",
              "</td>\n",
              "</tr>\n",
              "</tbody>\n",
              "</table>\n",
              "</div>"
            ]
          },
          "metadata": {},
          "execution_count": 19
        }
      ]
    },
    {
      "cell_type": "code",
      "source": [
        "df.filter(\n",
        "    pl.col('Company') == 'Apple'\n",
        ").select('Model')"
      ],
      "metadata": {
        "colab": {
          "base_uri": "https://localhost:8080/",
          "height": 203
        },
        "id": "sTA0IukEUrb_",
        "outputId": "fbd2b740-1916-4d08-e7cd-b4f3f78559e6"
      },
      "execution_count": null,
      "outputs": [
        {
          "output_type": "execute_result",
          "data": {
            "text/plain": [
              "shape: (4, 1)\n",
              "┌───────────┐\n",
              "│ Model     │\n",
              "│ ---       │\n",
              "│ str       │\n",
              "╞═══════════╡\n",
              "│ iPhone X  │\n",
              "│ iPhone XS │\n",
              "│ iPhone 12 │\n",
              "│ iPhone 13 │\n",
              "└───────────┘"
            ],
            "text/html": [
              "<div>\n",
              "<style scoped>\n",
              "    .dataframe tbody tr th:only-of-type {\n",
              "        vertical-align: middle;\n",
              "    }\n",
              "\n",
              "    .dataframe tbody tr th {\n",
              "        vertical-align: top;\n",
              "    }\n",
              "\n",
              "    .dataframe thead th {\n",
              "        text-align: right;\n",
              "    }\n",
              "\n",
              "    .dataframe td {\n",
              "        white-space: pre;\n",
              "    }\n",
              "\n",
              "    .dataframe td {\n",
              "        padding-top: 0;\n",
              "    }\n",
              "\n",
              "    .dataframe td {\n",
              "        padding-bottom: 0;\n",
              "    }\n",
              "\n",
              "    .dataframe td {\n",
              "        line-height: 95%;\n",
              "    }\n",
              "</style>\n",
              "<table border=\"1\" class=\"dataframe\">\n",
              "<small>shape: (4, 1)</small>\n",
              "<thead>\n",
              "<tr>\n",
              "<th>\n",
              "Model\n",
              "</th>\n",
              "</tr>\n",
              "<tr>\n",
              "<td>\n",
              "str\n",
              "</td>\n",
              "</tr>\n",
              "</thead>\n",
              "<tbody>\n",
              "<tr>\n",
              "<td>\n",
              "&quot;iPhone X&quot;\n",
              "</td>\n",
              "</tr>\n",
              "<tr>\n",
              "<td>\n",
              "&quot;iPhone XS&quot;\n",
              "</td>\n",
              "</tr>\n",
              "<tr>\n",
              "<td>\n",
              "&quot;iPhone 12&quot;\n",
              "</td>\n",
              "</tr>\n",
              "<tr>\n",
              "<td>\n",
              "&quot;iPhone 13&quot;\n",
              "</td>\n",
              "</tr>\n",
              "</tbody>\n",
              "</table>\n",
              "</div>"
            ]
          },
          "metadata": {},
          "execution_count": 20
        }
      ]
    },
    {
      "cell_type": "code",
      "source": [
        "df.filter(\n",
        "    pl.col('Company') == 'Apple'\n",
        ").select(['Model','Sales'])"
      ],
      "metadata": {
        "colab": {
          "base_uri": "https://localhost:8080/",
          "height": 203
        },
        "id": "tYkSPcnsUzBn",
        "outputId": "3037f0c1-0033-4503-8154-226a8d846807"
      },
      "execution_count": null,
      "outputs": [
        {
          "output_type": "execute_result",
          "data": {
            "text/plain": [
              "shape: (4, 2)\n",
              "┌───────────┬───────┐\n",
              "│ Model     ┆ Sales │\n",
              "│ ---       ┆ ---   │\n",
              "│ str       ┆ i64   │\n",
              "╞═══════════╪═══════╡\n",
              "│ iPhone X  ┆ 80    │\n",
              "│ iPhone XS ┆ 170   │\n",
              "│ iPhone 12 ┆ 130   │\n",
              "│ iPhone 13 ┆ 205   │\n",
              "└───────────┴───────┘"
            ],
            "text/html": [
              "<div>\n",
              "<style scoped>\n",
              "    .dataframe tbody tr th:only-of-type {\n",
              "        vertical-align: middle;\n",
              "    }\n",
              "\n",
              "    .dataframe tbody tr th {\n",
              "        vertical-align: top;\n",
              "    }\n",
              "\n",
              "    .dataframe thead th {\n",
              "        text-align: right;\n",
              "    }\n",
              "\n",
              "    .dataframe td {\n",
              "        white-space: pre;\n",
              "    }\n",
              "\n",
              "    .dataframe td {\n",
              "        padding-top: 0;\n",
              "    }\n",
              "\n",
              "    .dataframe td {\n",
              "        padding-bottom: 0;\n",
              "    }\n",
              "\n",
              "    .dataframe td {\n",
              "        line-height: 95%;\n",
              "    }\n",
              "</style>\n",
              "<table border=\"1\" class=\"dataframe\">\n",
              "<small>shape: (4, 2)</small>\n",
              "<thead>\n",
              "<tr>\n",
              "<th>\n",
              "Model\n",
              "</th>\n",
              "<th>\n",
              "Sales\n",
              "</th>\n",
              "</tr>\n",
              "<tr>\n",
              "<td>\n",
              "str\n",
              "</td>\n",
              "<td>\n",
              "i64\n",
              "</td>\n",
              "</tr>\n",
              "</thead>\n",
              "<tbody>\n",
              "<tr>\n",
              "<td>\n",
              "&quot;iPhone X&quot;\n",
              "</td>\n",
              "<td>\n",
              "80\n",
              "</td>\n",
              "</tr>\n",
              "<tr>\n",
              "<td>\n",
              "&quot;iPhone XS&quot;\n",
              "</td>\n",
              "<td>\n",
              "170\n",
              "</td>\n",
              "</tr>\n",
              "<tr>\n",
              "<td>\n",
              "&quot;iPhone 12&quot;\n",
              "</td>\n",
              "<td>\n",
              "130\n",
              "</td>\n",
              "</tr>\n",
              "<tr>\n",
              "<td>\n",
              "&quot;iPhone 13&quot;\n",
              "</td>\n",
              "<td>\n",
              "205\n",
              "</td>\n",
              "</tr>\n",
              "</tbody>\n",
              "</table>\n",
              "</div>"
            ]
          },
          "metadata": {},
          "execution_count": 21
        }
      ]
    },
    {
      "cell_type": "code",
      "source": [
        "df.head()"
      ],
      "metadata": {
        "colab": {
          "base_uri": "https://localhost:8080/",
          "height": 231
        },
        "id": "VbjNWnHSVCpn",
        "outputId": "594e8d1c-08b0-4acb-f54c-66327b999cca"
      },
      "execution_count": null,
      "outputs": [
        {
          "output_type": "execute_result",
          "data": {
            "text/plain": [
              "shape: (5, 3)\n",
              "┌─────────────┬───────┬─────────┐\n",
              "│ Model       ┆ Sales ┆ Company │\n",
              "│ ---         ┆ ---   ┆ ---     │\n",
              "│ str         ┆ i64   ┆ str     │\n",
              "╞═════════════╪═══════╪═════════╡\n",
              "│ iPhone X    ┆ 80    ┆ Apple   │\n",
              "│ iPhone XS   ┆ 170   ┆ Apple   │\n",
              "│ iPhone 12   ┆ 130   ┆ Apple   │\n",
              "│ iPhone 13   ┆ 205   ┆ Apple   │\n",
              "│ Samsung S11 ┆ 400   ┆ Samsung │\n",
              "└─────────────┴───────┴─────────┘"
            ],
            "text/html": [
              "<div>\n",
              "<style scoped>\n",
              "    .dataframe tbody tr th:only-of-type {\n",
              "        vertical-align: middle;\n",
              "    }\n",
              "\n",
              "    .dataframe tbody tr th {\n",
              "        vertical-align: top;\n",
              "    }\n",
              "\n",
              "    .dataframe thead th {\n",
              "        text-align: right;\n",
              "    }\n",
              "\n",
              "    .dataframe td {\n",
              "        white-space: pre;\n",
              "    }\n",
              "\n",
              "    .dataframe td {\n",
              "        padding-top: 0;\n",
              "    }\n",
              "\n",
              "    .dataframe td {\n",
              "        padding-bottom: 0;\n",
              "    }\n",
              "\n",
              "    .dataframe td {\n",
              "        line-height: 95%;\n",
              "    }\n",
              "</style>\n",
              "<table border=\"1\" class=\"dataframe\">\n",
              "<small>shape: (5, 3)</small>\n",
              "<thead>\n",
              "<tr>\n",
              "<th>\n",
              "Model\n",
              "</th>\n",
              "<th>\n",
              "Sales\n",
              "</th>\n",
              "<th>\n",
              "Company\n",
              "</th>\n",
              "</tr>\n",
              "<tr>\n",
              "<td>\n",
              "str\n",
              "</td>\n",
              "<td>\n",
              "i64\n",
              "</td>\n",
              "<td>\n",
              "str\n",
              "</td>\n",
              "</tr>\n",
              "</thead>\n",
              "<tbody>\n",
              "<tr>\n",
              "<td>\n",
              "&quot;iPhone X&quot;\n",
              "</td>\n",
              "<td>\n",
              "80\n",
              "</td>\n",
              "<td>\n",
              "&quot;Apple&quot;\n",
              "</td>\n",
              "</tr>\n",
              "<tr>\n",
              "<td>\n",
              "&quot;iPhone XS&quot;\n",
              "</td>\n",
              "<td>\n",
              "170\n",
              "</td>\n",
              "<td>\n",
              "&quot;Apple&quot;\n",
              "</td>\n",
              "</tr>\n",
              "<tr>\n",
              "<td>\n",
              "&quot;iPhone 12&quot;\n",
              "</td>\n",
              "<td>\n",
              "130\n",
              "</td>\n",
              "<td>\n",
              "&quot;Apple&quot;\n",
              "</td>\n",
              "</tr>\n",
              "<tr>\n",
              "<td>\n",
              "&quot;iPhone 13&quot;\n",
              "</td>\n",
              "<td>\n",
              "205\n",
              "</td>\n",
              "<td>\n",
              "&quot;Apple&quot;\n",
              "</td>\n",
              "</tr>\n",
              "<tr>\n",
              "<td>\n",
              "&quot;Samsung S11&quot;\n",
              "</td>\n",
              "<td>\n",
              "400\n",
              "</td>\n",
              "<td>\n",
              "&quot;Samsung&quot;\n",
              "</td>\n",
              "</tr>\n",
              "</tbody>\n",
              "</table>\n",
              "</div>"
            ]
          },
          "metadata": {},
          "execution_count": 22
        }
      ]
    },
    {
      "cell_type": "markdown",
      "source": [
        "# Eager Quickstart\n",
        "\n",
        "https://www.youtube.com/watch?v=VHqn7ufiilE\n"
      ],
      "metadata": {
        "id": "FmFJFQLRWX6K"
      }
    },
    {
      "cell_type": "code",
      "source": [
        "filtered = (df.filter(pl.col('Sales') > 200)\n",
        "  .groupby('Company', maintain_order=True)\n",
        "  .agg(pl.all().sum())\n",
        " )\n",
        "\n",
        "print(filtered)"
      ],
      "metadata": {
        "colab": {
          "base_uri": "https://localhost:8080/"
        },
        "id": "tRgwmgRLVPQW",
        "outputId": "d6469781-ae0a-49b4-e0a2-3fb33de6b4ea"
      },
      "execution_count": null,
      "outputs": [
        {
          "output_type": "stream",
          "name": "stdout",
          "text": [
            "shape: (2, 3)\n",
            "┌─────────┬───────┬───────┐\n",
            "│ Company ┆ Model ┆ Sales │\n",
            "│ ---     ┆ ---   ┆ ---   │\n",
            "│ str     ┆ str   ┆ i64   │\n",
            "╞═════════╪═══════╪═══════╡\n",
            "│ Apple   ┆ null  ┆ 205   │\n",
            "│ Samsung ┆ null  ┆ 400   │\n",
            "└─────────┴───────┴───────┘\n"
          ]
        }
      ]
    },
    {
      "cell_type": "code",
      "source": [
        "import pandas as pd\n",
        "\n",
        "dfp = pd.DataFrame(\n",
        "    {\n",
        "        'Model':['iPhone X','iPhone XS','iPhone 12',\n",
        "                   'iPhone 13','Samsung S11','Samsung S12',\n",
        "                   'Mi A1','Mi A2'],\n",
        "        'Sales':[80,170,130,205,400,30,14,8],\n",
        "        'Company':['Apple','Apple','Apple','Apple',\n",
        "                     'Samsung','Samsung','Xiao Mi','Xiao Mi'],\n",
        "    }\n",
        ")\n",
        "\n",
        "dfp.query('Sales > 200') \\\n",
        "    .groupby('Company').sum()"
      ],
      "metadata": {
        "colab": {
          "base_uri": "https://localhost:8080/",
          "height": 143
        },
        "id": "T-eM3N61Vkn3",
        "outputId": "d03cf9f1-4cd4-4371-8658-864f2cbfe033"
      },
      "execution_count": null,
      "outputs": [
        {
          "output_type": "execute_result",
          "data": {
            "text/plain": [
              "         Sales\n",
              "Company       \n",
              "Apple      205\n",
              "Samsung    400"
            ],
            "text/html": [
              "\n",
              "  <div id=\"df-f6d6787d-10d9-4561-bb84-d6f0a4e84054\">\n",
              "    <div class=\"colab-df-container\">\n",
              "      <div>\n",
              "<style scoped>\n",
              "    .dataframe tbody tr th:only-of-type {\n",
              "        vertical-align: middle;\n",
              "    }\n",
              "\n",
              "    .dataframe tbody tr th {\n",
              "        vertical-align: top;\n",
              "    }\n",
              "\n",
              "    .dataframe thead th {\n",
              "        text-align: right;\n",
              "    }\n",
              "</style>\n",
              "<table border=\"1\" class=\"dataframe\">\n",
              "  <thead>\n",
              "    <tr style=\"text-align: right;\">\n",
              "      <th></th>\n",
              "      <th>Sales</th>\n",
              "    </tr>\n",
              "    <tr>\n",
              "      <th>Company</th>\n",
              "      <th></th>\n",
              "    </tr>\n",
              "  </thead>\n",
              "  <tbody>\n",
              "    <tr>\n",
              "      <th>Apple</th>\n",
              "      <td>205</td>\n",
              "    </tr>\n",
              "    <tr>\n",
              "      <th>Samsung</th>\n",
              "      <td>400</td>\n",
              "    </tr>\n",
              "  </tbody>\n",
              "</table>\n",
              "</div>\n",
              "      <button class=\"colab-df-convert\" onclick=\"convertToInteractive('df-f6d6787d-10d9-4561-bb84-d6f0a4e84054')\"\n",
              "              title=\"Convert this dataframe to an interactive table.\"\n",
              "              style=\"display:none;\">\n",
              "        \n",
              "  <svg xmlns=\"http://www.w3.org/2000/svg\" height=\"24px\"viewBox=\"0 0 24 24\"\n",
              "       width=\"24px\">\n",
              "    <path d=\"M0 0h24v24H0V0z\" fill=\"none\"/>\n",
              "    <path d=\"M18.56 5.44l.94 2.06.94-2.06 2.06-.94-2.06-.94-.94-2.06-.94 2.06-2.06.94zm-11 1L8.5 8.5l.94-2.06 2.06-.94-2.06-.94L8.5 2.5l-.94 2.06-2.06.94zm10 10l.94 2.06.94-2.06 2.06-.94-2.06-.94-.94-2.06-.94 2.06-2.06.94z\"/><path d=\"M17.41 7.96l-1.37-1.37c-.4-.4-.92-.59-1.43-.59-.52 0-1.04.2-1.43.59L10.3 9.45l-7.72 7.72c-.78.78-.78 2.05 0 2.83L4 21.41c.39.39.9.59 1.41.59.51 0 1.02-.2 1.41-.59l7.78-7.78 2.81-2.81c.8-.78.8-2.07 0-2.86zM5.41 20L4 18.59l7.72-7.72 1.47 1.35L5.41 20z\"/>\n",
              "  </svg>\n",
              "      </button>\n",
              "      \n",
              "  <style>\n",
              "    .colab-df-container {\n",
              "      display:flex;\n",
              "      flex-wrap:wrap;\n",
              "      gap: 12px;\n",
              "    }\n",
              "\n",
              "    .colab-df-convert {\n",
              "      background-color: #E8F0FE;\n",
              "      border: none;\n",
              "      border-radius: 50%;\n",
              "      cursor: pointer;\n",
              "      display: none;\n",
              "      fill: #1967D2;\n",
              "      height: 32px;\n",
              "      padding: 0 0 0 0;\n",
              "      width: 32px;\n",
              "    }\n",
              "\n",
              "    .colab-df-convert:hover {\n",
              "      background-color: #E2EBFA;\n",
              "      box-shadow: 0px 1px 2px rgba(60, 64, 67, 0.3), 0px 1px 3px 1px rgba(60, 64, 67, 0.15);\n",
              "      fill: #174EA6;\n",
              "    }\n",
              "\n",
              "    [theme=dark] .colab-df-convert {\n",
              "      background-color: #3B4455;\n",
              "      fill: #D2E3FC;\n",
              "    }\n",
              "\n",
              "    [theme=dark] .colab-df-convert:hover {\n",
              "      background-color: #434B5C;\n",
              "      box-shadow: 0px 1px 3px 1px rgba(0, 0, 0, 0.15);\n",
              "      filter: drop-shadow(0px 1px 2px rgba(0, 0, 0, 0.3));\n",
              "      fill: #FFFFFF;\n",
              "    }\n",
              "  </style>\n",
              "\n",
              "      <script>\n",
              "        const buttonEl =\n",
              "          document.querySelector('#df-f6d6787d-10d9-4561-bb84-d6f0a4e84054 button.colab-df-convert');\n",
              "        buttonEl.style.display =\n",
              "          google.colab.kernel.accessAllowed ? 'block' : 'none';\n",
              "\n",
              "        async function convertToInteractive(key) {\n",
              "          const element = document.querySelector('#df-f6d6787d-10d9-4561-bb84-d6f0a4e84054');\n",
              "          const dataTable =\n",
              "            await google.colab.kernel.invokeFunction('convertToInteractive',\n",
              "                                                     [key], {});\n",
              "          if (!dataTable) return;\n",
              "\n",
              "          const docLinkHtml = 'Like what you see? Visit the ' +\n",
              "            '<a target=\"_blank\" href=https://colab.research.google.com/notebooks/data_table.ipynb>data table notebook</a>'\n",
              "            + ' to learn more about interactive tables.';\n",
              "          element.innerHTML = '';\n",
              "          dataTable['output_type'] = 'display_data';\n",
              "          await google.colab.output.renderOutput(dataTable, element);\n",
              "          const docLink = document.createElement('div');\n",
              "          docLink.innerHTML = docLinkHtml;\n",
              "          element.appendChild(docLink);\n",
              "        }\n",
              "      </script>\n",
              "    </div>\n",
              "  </div>\n",
              "  "
            ]
          },
          "metadata": {},
          "execution_count": 26
        }
      ]
    },
    {
      "cell_type": "markdown",
      "source": [
        "# Lazy Example"
      ],
      "metadata": {
        "id": "Wl4LV2IXWc5E"
      }
    },
    {
      "cell_type": "code",
      "source": [
        "((df)\n",
        "  .lazy()\n",
        "  .filter(pl.col('Sales') > 200)\n",
        "  .groupby('Company', maintain_order = True)\n",
        "  .agg(pl.all().sum())\n",
        ")"
      ],
      "metadata": {
        "colab": {
          "base_uri": "https://localhost:8080/",
          "height": 382
        },
        "id": "K7ofEPX0WAx_",
        "outputId": "12041fa5-6a5c-4508-9243-d86264442575"
      },
      "execution_count": null,
      "outputs": [
        {
          "output_type": "execute_result",
          "data": {
            "text/plain": [
              "<polars.LazyFrame object at 0x7FCF42855850>"
            ],
            "text/html": [
              "<h4>NAIVE QUERY PLAN</h4><p>run <b>LazyFrame.show_graph()</b> to see the optimized version</p><?xml version=\"1.0\" encoding=\"UTF-8\" standalone=\"no\"?>\n",
              "<!DOCTYPE svg PUBLIC \"-//W3C//DTD SVG 1.1//EN\"\n",
              " \"http://www.w3.org/Graphics/SVG/1.1/DTD/svg11.dtd\">\n",
              "<!-- Generated by graphviz version 2.40.1 (20161225.0304)\n",
              " -->\n",
              "<!-- Title: polars_query Pages: 1 -->\n",
              "<svg width=\"293pt\" height=\"222pt\"\n",
              " viewBox=\"0.00 0.00 293.00 222.00\" xmlns=\"http://www.w3.org/2000/svg\" xmlns:xlink=\"http://www.w3.org/1999/xlink\">\n",
              "<g id=\"graph0\" class=\"graph\" transform=\"scale(1 1) rotate(0) translate(4 218)\">\n",
              "<title>polars_query</title>\n",
              "<polygon fill=\"#ffffff\" stroke=\"transparent\" points=\"-4,4 -4,-218 289,-218 289,4 -4,4\"/>\n",
              "<!-- AGG [col(&quot;Model&quot;).sum(), col(&quot;Sales&quot;).sum()]\n",
              "BY\n",
              "[col(&quot;Company&quot;)] [(0, 0)] [(0, 0)] -->\n",
              "<g id=\"node1\" class=\"node\">\n",
              "<title>AGG [col(&quot;Model&quot;).sum(), col(&quot;Sales&quot;).sum()]\n",
              "BY\n",
              "[col(&quot;Company&quot;)] [(0, 0)] [(0, 0)]</title>\n",
              "<polygon fill=\"none\" stroke=\"#000000\" points=\"285,-214 0,-214 0,-161 285,-161 285,-214\"/>\n",
              "<text text-anchor=\"middle\" x=\"142.5\" y=\"-198.8\" font-family=\"Times,serif\" font-size=\"14.00\" fill=\"#000000\">AGG [col(&quot;Model&quot;).sum(), col(&quot;Sales&quot;).sum()]</text>\n",
              "<text text-anchor=\"middle\" x=\"142.5\" y=\"-183.8\" font-family=\"Times,serif\" font-size=\"14.00\" fill=\"#000000\">BY</text>\n",
              "<text text-anchor=\"middle\" x=\"142.5\" y=\"-168.8\" font-family=\"Times,serif\" font-size=\"14.00\" fill=\"#000000\">[col(&quot;Company&quot;)] [(0, 0)]</text>\n",
              "</g>\n",
              "<!-- FILTER BY (col(&quot;Sales&quot;)) &gt; (200i32) [(0, 1)] -->\n",
              "<g id=\"node2\" class=\"node\">\n",
              "<title>FILTER BY (col(&quot;Sales&quot;)) &gt; (200i32) [(0, 1)]</title>\n",
              "<polygon fill=\"none\" stroke=\"#000000\" points=\"259.5,-125 25.5,-125 25.5,-89 259.5,-89 259.5,-125\"/>\n",
              "<text text-anchor=\"middle\" x=\"142.5\" y=\"-103.3\" font-family=\"Times,serif\" font-size=\"14.00\" fill=\"#000000\">FILTER BY (col(&quot;Sales&quot;)) &gt; (200i32)</text>\n",
              "</g>\n",
              "<!-- AGG [col(&quot;Model&quot;).sum(), col(&quot;Sales&quot;).sum()]\n",
              "BY\n",
              "[col(&quot;Company&quot;)] [(0, 0)] [(0, 0)]&#45;&#45;FILTER BY (col(&quot;Sales&quot;)) &gt; (200i32) [(0, 1)] -->\n",
              "<g id=\"edge1\" class=\"edge\">\n",
              "<title>AGG [col(&quot;Model&quot;).sum(), col(&quot;Sales&quot;).sum()]\n",
              "BY\n",
              "[col(&quot;Company&quot;)] [(0, 0)] [(0, 0)]&#45;&#45;FILTER BY (col(&quot;Sales&quot;)) &gt; (200i32) [(0, 1)]</title>\n",
              "<path fill=\"none\" stroke=\"#000000\" d=\"M142.5,-160.6947C142.5,-148.9859 142.5,-135.5623 142.5,-125.0658\"/>\n",
              "</g>\n",
              "<!-- TABLE\n",
              "π */3;\n",
              "σ &#45;; [(0, 2)] -->\n",
              "<g id=\"node3\" class=\"node\">\n",
              "<title>TABLE\n",
              "π */3;\n",
              "σ &#45;; [(0, 2)]</title>\n",
              "<polygon fill=\"none\" stroke=\"#000000\" points=\"174,-53 111,-53 111,0 174,0 174,-53\"/>\n",
              "<text text-anchor=\"middle\" x=\"142.5\" y=\"-37.8\" font-family=\"Times,serif\" font-size=\"14.00\" fill=\"#000000\">TABLE</text>\n",
              "<text text-anchor=\"middle\" x=\"142.5\" y=\"-22.8\" font-family=\"Times,serif\" font-size=\"14.00\" fill=\"#000000\">π */3;</text>\n",
              "<text text-anchor=\"middle\" x=\"142.5\" y=\"-7.8\" font-family=\"Times,serif\" font-size=\"14.00\" fill=\"#000000\">σ &#45;;</text>\n",
              "</g>\n",
              "<!-- FILTER BY (col(&quot;Sales&quot;)) &gt; (200i32) [(0, 1)]&#45;&#45;TABLE\n",
              "π */3;\n",
              "σ &#45;; [(0, 2)] -->\n",
              "<g id=\"edge2\" class=\"edge\">\n",
              "<title>FILTER BY (col(&quot;Sales&quot;)) &gt; (200i32) [(0, 1)]&#45;&#45;TABLE\n",
              "π */3;\n",
              "σ &#45;; [(0, 2)]</title>\n",
              "<path fill=\"none\" stroke=\"#000000\" d=\"M142.5,-88.7333C142.5,-78.2495 142.5,-64.8954 142.5,-53.2477\"/>\n",
              "</g>\n",
              "</g>\n",
              "</svg>\n"
            ]
          },
          "metadata": {},
          "execution_count": 28
        }
      ]
    },
    {
      "cell_type": "code",
      "source": [
        "((df)\n",
        "  .lazy()\n",
        "  .filter(pl.col('Sales') > 200)\n",
        "  .groupby('Company', maintain_order = True)\n",
        "  .agg(pl.all().sum())\n",
        "  .collect()\n",
        ")"
      ],
      "metadata": {
        "colab": {
          "base_uri": "https://localhost:8080/",
          "height": 149
        },
        "id": "ulxCArQ5XEs_",
        "outputId": "a716cd06-cce5-46dd-d0bc-f93d4060a3f0"
      },
      "execution_count": null,
      "outputs": [
        {
          "output_type": "execute_result",
          "data": {
            "text/plain": [
              "shape: (2, 3)\n",
              "┌─────────┬───────┬───────┐\n",
              "│ Company ┆ Model ┆ Sales │\n",
              "│ ---     ┆ ---   ┆ ---   │\n",
              "│ str     ┆ str   ┆ i64   │\n",
              "╞═════════╪═══════╪═══════╡\n",
              "│ Apple   ┆ null  ┆ 205   │\n",
              "│ Samsung ┆ null  ┆ 400   │\n",
              "└─────────┴───────┴───────┘"
            ],
            "text/html": [
              "<div>\n",
              "<style scoped>\n",
              "    .dataframe tbody tr th:only-of-type {\n",
              "        vertical-align: middle;\n",
              "    }\n",
              "\n",
              "    .dataframe tbody tr th {\n",
              "        vertical-align: top;\n",
              "    }\n",
              "\n",
              "    .dataframe thead th {\n",
              "        text-align: right;\n",
              "    }\n",
              "\n",
              "    .dataframe td {\n",
              "        white-space: pre;\n",
              "    }\n",
              "\n",
              "    .dataframe td {\n",
              "        padding-top: 0;\n",
              "    }\n",
              "\n",
              "    .dataframe td {\n",
              "        padding-bottom: 0;\n",
              "    }\n",
              "\n",
              "    .dataframe td {\n",
              "        line-height: 95%;\n",
              "    }\n",
              "</style>\n",
              "<table border=\"1\" class=\"dataframe\">\n",
              "<small>shape: (2, 3)</small>\n",
              "<thead>\n",
              "<tr>\n",
              "<th>\n",
              "Company\n",
              "</th>\n",
              "<th>\n",
              "Model\n",
              "</th>\n",
              "<th>\n",
              "Sales\n",
              "</th>\n",
              "</tr>\n",
              "<tr>\n",
              "<td>\n",
              "str\n",
              "</td>\n",
              "<td>\n",
              "str\n",
              "</td>\n",
              "<td>\n",
              "i64\n",
              "</td>\n",
              "</tr>\n",
              "</thead>\n",
              "<tbody>\n",
              "<tr>\n",
              "<td>\n",
              "&quot;Apple&quot;\n",
              "</td>\n",
              "<td>\n",
              "null\n",
              "</td>\n",
              "<td>\n",
              "205\n",
              "</td>\n",
              "</tr>\n",
              "<tr>\n",
              "<td>\n",
              "&quot;Samsung&quot;\n",
              "</td>\n",
              "<td>\n",
              "null\n",
              "</td>\n",
              "<td>\n",
              "400\n",
              "</td>\n",
              "</tr>\n",
              "</tbody>\n",
              "</table>\n",
              "</div>"
            ]
          },
          "metadata": {},
          "execution_count": 29
        }
      ]
    },
    {
      "cell_type": "markdown",
      "source": [
        "# Speed Test\n",
        "\n",
        "Using Kaggle Dataset to test Polars vs Pandas.\n",
        "- How-to: https://www.kaggle.com/general/156610\n",
        "- Dataset: https://www.kaggle.com/datasets/miaoshihao/csv-dataset \n"
      ],
      "metadata": {
        "id": "uYjglKeWZFAB"
      }
    },
    {
      "cell_type": "markdown",
      "source": [
        "## Get Data from Kaggle"
      ],
      "metadata": {
        "id": "ToI5x8uLeAs-"
      }
    },
    {
      "cell_type": "markdown",
      "source": [
        "**Important**: You'll need to mount your Google Drive first!\n",
        "\n",
        "    from google.colab import drive\n",
        "    drive.mount('/content/gdrive')"
      ],
      "metadata": {
        "id": "j_5yK2b2aKBQ"
      }
    },
    {
      "cell_type": "code",
      "source": [
        "from google.colab import files\n",
        "\n",
        "files.upload() #this will prompt you to upload the kaggle.json"
      ],
      "metadata": {
        "id": "UYXfbRUTXRFO"
      },
      "execution_count": null,
      "outputs": []
    },
    {
      "cell_type": "code",
      "source": [
        "!ls -lha kaggle.json"
      ],
      "metadata": {
        "colab": {
          "base_uri": "https://localhost:8080/"
        },
        "id": "XHq_q5sPY3F3",
        "outputId": "4156936d-438c-435b-8284-21efb9066e33"
      },
      "execution_count": null,
      "outputs": [
        {
          "output_type": "stream",
          "name": "stdout",
          "text": [
            "-rw-r--r-- 1 root root 64 Jan  2 16:49 kaggle.json\n"
          ]
        }
      ]
    },
    {
      "cell_type": "code",
      "source": [
        "!pip install -q kaggle"
      ],
      "metadata": {
        "id": "TS0g_c-0ZBh3"
      },
      "execution_count": null,
      "outputs": []
    },
    {
      "cell_type": "code",
      "source": [
        "!mkdir -p ~/.kaggle\n",
        "!cp kaggle.json ~/.kaggle/"
      ],
      "metadata": {
        "id": "_CcZ8XbrZDRX"
      },
      "execution_count": null,
      "outputs": []
    },
    {
      "cell_type": "code",
      "source": [
        "!chmod 600 /root/.kaggle/kaggle.json"
      ],
      "metadata": {
        "id": "s6Ywsa2kZW6W"
      },
      "execution_count": null,
      "outputs": []
    },
    {
      "cell_type": "code",
      "source": [
        "!pwd"
      ],
      "metadata": {
        "colab": {
          "base_uri": "https://localhost:8080/"
        },
        "id": "7ClfphHaZZRX",
        "outputId": "3aaf3b6d-7272-460b-e3a4-7cca8ee69cae"
      },
      "execution_count": null,
      "outputs": [
        {
          "output_type": "stream",
          "name": "stdout",
          "text": [
            "/content\n"
          ]
        }
      ]
    },
    {
      "cell_type": "code",
      "source": [
        "!kaggle datasets list"
      ],
      "metadata": {
        "colab": {
          "base_uri": "https://localhost:8080/"
        },
        "id": "snkjCaiNZa0O",
        "outputId": "2856690a-7b9a-467c-f03c-bb6f431c839c"
      },
      "execution_count": null,
      "outputs": [
        {
          "output_type": "stream",
          "name": "stdout",
          "text": [
            "ref                                                           title                                               size  lastUpdated          downloadCount  voteCount  usabilityRating  \n",
            "------------------------------------------------------------  -------------------------------------------------  -----  -------------------  -------------  ---------  ---------------  \n",
            "meirnizri/covid19-dataset                                     COVID-19 Dataset                                     5MB  2022-11-13 15:47:17          14942        423  1.0              \n",
            "devrimtuner/list-of-moststreamed-songs-on-spotify             Top 100 Spotify Songs👑🎤🎧🎼                            3KB  2022-12-30 05:42:54            319         26  1.0              \n",
            "thedevastator/analyzing-credit-card-spending-habits-in-india  Credit Card Spending Habits in India               319KB  2022-12-14 07:30:37           1513         51  1.0              \n",
            "die9origephit/fifa-world-cup-2022-complete-dataset            Fifa World Cup 2022: Complete Dataset                7KB  2022-12-18 22:51:11           3126        111  1.0              \n",
            "michals22/coffee-dataset                                      Coffee dataset                                      24KB  2022-12-15 20:02:12           3634         82  1.0              \n",
            "heemalichaudhari/netflix-movies-and-series                    Netflix Movies and Series                            2MB  2022-12-22 13:34:22           1027         30  0.8235294        \n",
            "sejungjenn/spotify-best-songs-of-2022                         Spotify: Winner Tracks Audio Features🎹              38KB  2022-12-28 08:06:49            259         21  1.0              \n",
            "thedevastator/unlock-profits-with-e-commerce-sales-data       E-Commerce Sales Dataset                             6MB  2022-12-03 09:27:17           2887         72  1.0              \n",
            "aklimarimi/qs-world-ranked-universities-20182022              QS World ranked Universities (2018-2022)            51KB  2022-12-28 03:53:39            463         28  1.0              \n",
            "rajeshrampure/black-friday-sale                               Black Friday Sale                                    5MB  2022-12-24 09:37:49            824         28  1.0              \n",
            "devrimtuner/highestpaid-athletes                              HIGHEST-PAID ATHLETES⚽️🏀🏈⚾️🥎🎾                        1KB  2022-12-29 01:29:51            268         25  1.0              \n",
            "heemalichaudhari/shopping                                     Shopping                                            12KB  2022-12-26 14:25:07            359         22  0.9411765        \n",
            "milanvaddoriya/old-car-price-prediction                       Old car price prediction                           105KB  2022-12-24 15:38:56            369         27  1.0              \n",
            "thedevastator/how-does-daily-yoga-impact-screen-time-habits   How Does Daily Yoga Impact Screen Time Habits       742B  2022-12-14 04:10:56            586         21  1.0              \n",
            "thedevastator/uncovering-factors-that-affect-used-car-prices  Used Cars                                           18MB  2022-12-06 13:36:08           1022         31  1.0              \n",
            "devrimtuner/list-of-mostfollowed-instagram-accounts           (TOP 50)List of most-followed Instagram accounts👑    2KB  2022-12-30 07:52:00            312         25  1.0              \n",
            "thedevastator/jobs-dataset-from-glassdoor                     Salary Prediction                                    3MB  2022-11-16 13:52:31           8343        178  1.0              \n",
            "dansbecker/melbourne-housing-snapshot                         Melbourne Housing Snapshot                         451KB  2018-06-05 12:52:24         103261       1188  0.7058824        \n",
            "mattop/best-selling-game-boy-video-games                      Best Selling Game Boy Video Games                    2KB  2022-12-17 18:41:38            369         27  0.9705882        \n",
            "rajeshrampure/zomato-dataset                                  Zomato Dataset                                      89MB  2022-12-23 07:38:07            508         28  1.0              \n"
          ]
        }
      ]
    },
    {
      "cell_type": "code",
      "source": [
        "!kaggle datasets download -d miaoshihao/csv-dataset"
      ],
      "metadata": {
        "colab": {
          "base_uri": "https://localhost:8080/"
        },
        "id": "zs_iW5JlZdl-",
        "outputId": "abbed418-7d55-4647-efb1-3850a12d8ce6"
      },
      "execution_count": null,
      "outputs": [
        {
          "output_type": "stream",
          "name": "stdout",
          "text": [
            "Downloading csv-dataset.zip to /content\n",
            " 97% 599M/614M [00:05<00:00, 129MB/s]\n",
            "100% 614M/614M [00:05<00:00, 108MB/s]\n"
          ]
        }
      ]
    },
    {
      "cell_type": "code",
      "source": [
        "!unzip csv-dataset.zip"
      ],
      "metadata": {
        "colab": {
          "base_uri": "https://localhost:8080/"
        },
        "id": "VITXEacSZm_Y",
        "outputId": "6fee0058-1a5c-469b-f987-ad7ad46aa231"
      },
      "execution_count": null,
      "outputs": [
        {
          "output_type": "stream",
          "name": "stdout",
          "text": [
            "Archive:  csv-dataset.zip\n",
            "  inflating: data_electronics_no_spck_comwdrm.csv  \n",
            "  inflating: data_movie_no_spck_comwdrm.csv  \n"
          ]
        }
      ]
    },
    {
      "cell_type": "markdown",
      "source": [
        "## Compare Speed"
      ],
      "metadata": {
        "id": "-qnGdby_eFzA"
      }
    },
    {
      "cell_type": "code",
      "source": [
        "large_data = \"/content/data_movie_no_spck_comwdrm.csv\""
      ],
      "metadata": {
        "id": "1Sj5sI1EZr3e"
      },
      "execution_count": null,
      "outputs": []
    },
    {
      "cell_type": "markdown",
      "source": [
        "### Polars"
      ],
      "metadata": {
        "id": "bHbkIHJBef9_"
      }
    },
    {
      "cell_type": "code",
      "source": [
        "%%timeit\n",
        "\n",
        "df2 = pl.read_csv(large_data)\n",
        "df2.filter(\n",
        "    pl.col('overall') == 3\n",
        ").select(['summary'])"
      ],
      "metadata": {
        "colab": {
          "base_uri": "https://localhost:8080/"
        },
        "id": "WIcqYJOebJln",
        "outputId": "2cb583b1-83b4-4ba4-cd37-6e9dc16f4889"
      },
      "execution_count": null,
      "outputs": [
        {
          "output_type": "stream",
          "name": "stdout",
          "text": [
            "3.89 s ± 15.9 ms per loop (mean ± std. dev. of 7 runs, 1 loop each)\n"
          ]
        }
      ]
    },
    {
      "cell_type": "markdown",
      "source": [
        "### Pandas"
      ],
      "metadata": {
        "id": "HyZVG457eid8"
      }
    },
    {
      "cell_type": "code",
      "source": [
        "%%timeit\n",
        "\n",
        "df2p = pd.read_csv(large_data)\n",
        "df2p.query('overall == 3')['summary']"
      ],
      "metadata": {
        "colab": {
          "base_uri": "https://localhost:8080/"
        },
        "id": "rEufKsChbyk2",
        "outputId": "3e86e3c8-109d-48a4-c5ad-9d3e7fb64912"
      },
      "execution_count": null,
      "outputs": [
        {
          "output_type": "stream",
          "name": "stdout",
          "text": [
            "14.4 s ± 972 ms per loop (mean ± std. dev. of 7 runs, 1 loop each)\n"
          ]
        }
      ]
    }
  ]
}